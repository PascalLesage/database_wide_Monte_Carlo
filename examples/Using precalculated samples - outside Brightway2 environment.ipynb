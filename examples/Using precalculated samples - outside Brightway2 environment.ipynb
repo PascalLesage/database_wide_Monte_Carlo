{
 "cells": [
  {
   "cell_type": "markdown",
   "metadata": {},
   "source": [
    "# Using precalculated samples arrays outside the Brightway2 environment\n",
    "\n",
    "Pascal Lesage, CIRAIG  \n",
    "March 2018  \n",
    "\n",
    "Based on an example published in:  \n",
    "\n",
    "Lesage, P., C. Mutel, U. Schenker and M. Margni (2018). Uncertainty analysis in LCA using precalculated aggregated datasets. The International Journal of Life Cycle Assessment. https://doi.org/10.1007/s11367-018-1444-x"
   ]
  },
  {
   "cell_type": "markdown",
   "metadata": {},
   "source": [
    "-----------"
   ]
  },
  {
   "cell_type": "markdown",
   "metadata": {},
   "source": [
    "## Objectives  \n",
    "Show how precalculated LCIA arrays generated with the `database_wide_monte_carlo` can be used to calculate LCA scores.  \n",
    "The example does not use Brightway2."
   ]
  },
  {
   "cell_type": "markdown",
   "metadata": {},
   "source": [
    "## Fictional case study - the aluminium water bottle  \n",
    " - 150 gram water bottle made of secondary aluminium (new scrap)\n",
    " - Cradle-to-gate  \n",
    " - Only two unit processes: secondary aluminium, cold-impact extrusion.  \n",
    " - Other inputs (such as an interior polymer coating, bottle painting and packaging) are excluded from the simple example.\n",
    " - https://www.youtube.com/watch?v=ifl0-re-tV8#t=1m15s  \n",
    " - Impact methods of interest: IPCC2013 GWP 100a and ILCD midpoint impacts to human health form ozone layer depletion"
   ]
  },
  {
   "cell_type": "markdown",
   "metadata": {},
   "source": [
    "## Getting our objects"
   ]
  },
  {
   "cell_type": "markdown",
   "metadata": {},
   "source": [
    "### Identifying the relevant LCIA arrays"
   ]
  },
  {
   "cell_type": "markdown",
   "metadata": {},
   "source": [
    "#### Identifying the correct LCIA directory"
   ]
  },
  {
   "cell_type": "markdown",
   "metadata": {},
   "source": [
    "LCIA arrays are stored in a `results/LCIA` directory. This directory contains subdirectories with names that are hardly human-readable, e.g. `cml-2001ag.0d5f26ea96ba60424b25b2173464ea8b` and `recipe-endpoint-ea-wo-lthp.a4bb73ef1c8b5bb0ca812c7bf571246e`. These are Brightway2-generated abbreviations based in the MD5 hash of the tuple representing the method in Brightway2.  \n",
    "\n",
    "The helper file `results\\reference_files\\methods description.xlsx` can be used to identify the map the method of interest to its abbreviation.  From this file, we read that the abbreviations of interest are: \n",
    "  - 'ipcc-2013cg.bd5af3f67229a1cc291b8ecb7f316fcf'  \n",
    "  - 'ilcd-108-2016-midpoint-no-ltho.3039615a2eeeb07c0a5dbc9266b013db'."
   ]
  },
  {
   "cell_type": "code",
   "execution_count": 1,
   "metadata": {
    "ExecuteTime": {
     "end_time": "2018-03-21T00:31:33.034365Z",
     "start_time": "2018-03-21T00:31:33.030321Z"
    },
    "collapsed": true
   },
   "outputs": [],
   "source": [
    "import os"
   ]
  },
  {
   "cell_type": "code",
   "execution_count": 2,
   "metadata": {
    "ExecuteTime": {
     "end_time": "2018-03-21T00:31:33.050375Z",
     "start_time": "2018-03-21T00:31:33.036337Z"
    },
    "collapsed": true
   },
   "outputs": [],
   "source": [
    "LCIA_dir = r'C:/mypy/data/my_mcs/db/results/LCIA'\n",
    "cc_dir = os.path.join(LCIA_dir, 'ipcc-2013cg.bd5af3f67229a1cc291b8ecb7f316fcf')\n",
    "o3_dir = os.path.join(LCIA_dir, 'ilcd-108-2016-midpoint-no-ltho.3039615a2eeeb07c0a5dbc9266b013db')"
   ]
  },
  {
   "cell_type": "markdown",
   "metadata": {},
   "source": [
    "#### Identifying the correct array within the LCIA directory"
   ]
  },
  {
   "cell_type": "markdown",
   "metadata": {},
   "source": [
    "Now that the LCIA directory is found, we have narrowed it down to as many files as there are activities in the database. In the case of ecoinvent 3.4 cut-off by classification, this means 14889 files! The names of these files are actually just UUIDs, i.e. are not human-readable. \n",
    "\n",
    "The helper file `results\\reference_files\\activity_details.xlsx` can be used to identify the map the activities of interest to their UUID.  From this file, we read the following: "
   ]
  },
  {
   "cell_type": "code",
   "execution_count": 3,
   "metadata": {
    "ExecuteTime": {
     "end_time": "2018-03-21T00:32:58.530672Z",
     "start_time": "2018-03-21T00:32:58.526636Z"
    },
    "collapsed": true
   },
   "outputs": [],
   "source": [
    "aluminium_UUID = '752f34fa1a0c7a9c7b2b5d8d52c940e8'\n",
    "extrusion_UUID = 'f3986f0a13837b31a3130fc4fecc617a'"
   ]
  },
  {
   "cell_type": "markdown",
   "metadata": {},
   "source": [
    "The full path to the LCIA arrays are therefore, respectively: "
   ]
  },
  {
   "cell_type": "code",
   "execution_count": 4,
   "metadata": {
    "ExecuteTime": {
     "end_time": "2018-03-21T00:33:00.750386Z",
     "start_time": "2018-03-21T00:33:00.746415Z"
    },
    "collapsed": true
   },
   "outputs": [],
   "source": [
    "aluminium_fp_cc = os.path.join(cc_dir, aluminium_UUID+'.npy')\n",
    "aluminium_fp_o3 = os.path.join(o3_dir, aluminium_UUID+'.npy')\n",
    "extrusion_fp_cc = os.path.join(cc_dir, extrusion_UUID+'.npy')\n",
    "extrusion_fp_o3 = os.path.join(o3_dir, extrusion_UUID+'.npy')"
   ]
  },
  {
   "cell_type": "markdown",
   "metadata": {},
   "source": [
    "## LCA calculation with precalculated array"
   ]
  },
  {
   "cell_type": "markdown",
   "metadata": {},
   "source": [
    "Given the problem description, the LCA score is simply given by:"
   ]
  },
  {
   "cell_type": "code",
   "execution_count": 5,
   "metadata": {
    "ExecuteTime": {
     "end_time": "2018-03-21T00:33:03.086284Z",
     "start_time": "2018-03-21T00:33:03.083309Z"
    },
    "collapsed": true
   },
   "outputs": [],
   "source": [
    "def score_bottle(score_aluminium, score_extrusion):\n",
    "    return 0.15 * (score_aluminium + score_extrusion)"
   ]
  },
  {
   "cell_type": "markdown",
   "metadata": {},
   "source": [
    "Let's load the precalculated arrays. These are stored as numpy arrays, so we need to import numpy:"
   ]
  },
  {
   "cell_type": "code",
   "execution_count": 6,
   "metadata": {
    "ExecuteTime": {
     "end_time": "2018-03-21T00:33:04.642818Z",
     "start_time": "2018-03-21T00:33:04.080407Z"
    },
    "collapsed": true
   },
   "outputs": [],
   "source": [
    "import numpy as np"
   ]
  },
  {
   "cell_type": "code",
   "execution_count": 9,
   "metadata": {
    "ExecuteTime": {
     "end_time": "2018-03-21T00:34:38.686926Z",
     "start_time": "2018-03-21T00:34:38.662832Z"
    },
    "collapsed": true
   },
   "outputs": [],
   "source": [
    "aluminium_arr_cc = np.load(aluminium_fp_cc)\n",
    "extrusion_arr_cc = np.load(extrusion_fp_cc)\n",
    "aluminium_arr_o3 = np.load(aluminium_fp_o3)\n",
    "extrusion_arr_o3 = np.load(extrusion_fp_o3)"
   ]
  },
  {
   "cell_type": "markdown",
   "metadata": {},
   "source": [
    "Let's inspect these objects:  "
   ]
  },
  {
   "cell_type": "code",
   "execution_count": 29,
   "metadata": {
    "ExecuteTime": {
     "end_time": "2018-03-21T00:48:00.056435Z",
     "start_time": "2018-03-21T00:48:00.050379Z"
    }
   },
   "outputs": [
    {
     "name": "stdout",
     "output_type": "stream",
     "text": [
      "Number of iterations per array: 5000\n",
      "Format of a value in the array: <class 'numpy.float64'>\n",
      "Size on disk of the array: 40.08 kB\n"
     ]
    }
   ],
   "source": [
    "print(\"Number of iterations per array: {}\".format(aluminium_arr_cc.shape[0]))\n",
    "print(\"Format of a value in the array: {}\".format(type(aluminium_arr_cc[0])))\n",
    "print(\"Size on disk of the array: {} kB\".format(os.path.getsize(aluminium_fp_cc)/1000))"
   ]
  },
  {
   "cell_type": "markdown",
   "metadata": {},
   "source": [
    "Applying the function to the array of aggregated LCIA scores is then easy and fast:"
   ]
  },
  {
   "cell_type": "code",
   "execution_count": 13,
   "metadata": {
    "ExecuteTime": {
     "end_time": "2018-03-21T00:36:31.117733Z",
     "start_time": "2018-03-21T00:36:31.113740Z"
    }
   },
   "outputs": [
    {
     "data": {
      "text/plain": [
       "array([ 0.33172825,  0.34000065,  0.34928548, ...,  0.352499  ,\n",
       "        0.36802129,  0.36512084])"
      ]
     },
     "execution_count": 13,
     "metadata": {},
     "output_type": "execute_result"
    }
   ],
   "source": [
    "score_bottle(aluminium_arr_cc, extrusion_arr_cc)"
   ]
  },
  {
   "cell_type": "markdown",
   "metadata": {},
   "source": [
    "How fast?"
   ]
  },
  {
   "cell_type": "code",
   "execution_count": 14,
   "metadata": {
    "ExecuteTime": {
     "end_time": "2018-03-21T00:36:47.394567Z",
     "start_time": "2018-03-21T00:36:42.548742Z"
    }
   },
   "outputs": [
    {
     "name": "stdout",
     "output_type": "stream",
     "text": [
      "6.09 µs ± 775 ns per loop (mean ± std. dev. of 7 runs, 100000 loops each)\n"
     ]
    }
   ],
   "source": [
    "% timeit score_bottle(aluminium_arr_cc, extrusion_arr_cc)"
   ]
  },
  {
   "cell_type": "markdown",
   "metadata": {},
   "source": [
    "To be fair, we should factor in the time required to load the arrays:"
   ]
  },
  {
   "cell_type": "code",
   "execution_count": 15,
   "metadata": {
    "ExecuteTime": {
     "end_time": "2018-03-21T00:37:39.816046Z",
     "start_time": "2018-03-21T00:37:34.274536Z"
    }
   },
   "outputs": [
    {
     "name": "stdout",
     "output_type": "stream",
     "text": [
      "694 µs ± 24.8 µs per loop (mean ± std. dev. of 7 runs, 1000 loops each)\n"
     ]
    }
   ],
   "source": [
    "% timeit score_bottle(np.load(aluminium_fp_cc), np.load(extrusion_fp_cc))"
   ]
  },
  {
   "cell_type": "markdown",
   "metadata": {},
   "source": [
    "The time went up by a factor of 100, but is still under a millisecond!  "
   ]
  },
  {
   "cell_type": "markdown",
   "metadata": {},
   "source": [
    "These results can then be plotted: "
   ]
  },
  {
   "cell_type": "code",
   "execution_count": 17,
   "metadata": {
    "ExecuteTime": {
     "end_time": "2018-03-21T00:39:56.521982Z",
     "start_time": "2018-03-21T00:39:56.516969Z"
    },
    "collapsed": true
   },
   "outputs": [],
   "source": [
    "import matplotlib.pyplot as plt\n",
    "%matplotlib inline"
   ]
  },
  {
   "cell_type": "code",
   "execution_count": 25,
   "metadata": {
    "ExecuteTime": {
     "end_time": "2018-03-21T00:43:14.165286Z",
     "start_time": "2018-03-21T00:43:14.060054Z"
    }
   },
   "outputs": [
    {
     "data": {
      "image/png": "[encoded data removed]",
      "text/plain": [
       "<matplotlib.figure.Figure at 0x182d7b48fd0>"
      ]
     },
     "metadata": {},
     "output_type": "display_data"
    }
   ],
   "source": [
    "# CC\n",
    "plt.hist(score_bottle(aluminium_arr_cc, extrusion_arr_cc), histtype='step', bins=100, normed=True)\n",
    "plt.xlabel(\"kg CO2-Eq/bottle\")\n",
    "plt.ylabel(\"Frequency\")\n",
    "plt.legend()\n",
    "plt.title(\"Monte Carlo results\\nClimate change\\nDirect reuse of precalculated samples\");"
   ]
  },
  {
   "cell_type": "code",
   "execution_count": 23,
   "metadata": {
    "ExecuteTime": {
     "end_time": "2018-03-21T00:42:43.412317Z",
     "start_time": "2018-03-21T00:42:43.291919Z"
    }
   },
   "outputs": [
    {
     "data": {
      "image/png": "[encoded data removed]",
      "text/plain": [
       "<matplotlib.figure.Figure at 0x182d789f588>"
      ]
     },
     "metadata": {},
     "output_type": "display_data"
    }
   ],
   "source": [
    "# O3\n",
    "plt.hist(score_bottle(aluminium_arr_o3, extrusion_arr_o3), histtype='step', bins=100, normed=True)\n",
    "plt.xlabel(\"kg CFC11-Eq/bottle\")\n",
    "plt.ylabel(\"Frequency\")\n",
    "plt.legend()\n",
    "plt.title(\"Monte Carlo results\\nOzone layer depletion\\nDirect reuse of precalculated samples\");"
   ]
  }
 ],
 "metadata": {
  "kernelspec": {
   "display_name": "Python 3",
   "language": "python",
   "name": "python3"
  },
  "language_info": {
   "codemirror_mode": {
    "name": "ipython",
    "version": 3
   },
   "file_extension": ".py",
   "mimetype": "text/x-python",
   "name": "python",
   "nbconvert_exporter": "python",
   "pygments_lexer": "ipython3",
   "version": "3.6.3"
  },
  "toc": {
   "nav_menu": {},
   "number_sections": true,
   "sideBar": true,
   "skip_h1_title": true,
   "title_cell": "Table of Contents",
   "title_sidebar": "Contents",
   "toc_cell": false,
   "toc_position": {},
   "toc_section_display": true,
   "toc_window_display": true
  },
  "varInspector": {
   "cols": {
    "lenName": 16,
    "lenType": 16,
    "lenVar": 40
   },
   "kernels_config": {
    "python": {
     "delete_cmd_postfix": "",
     "delete_cmd_prefix": "del ",
     "library": "var_list.py",
     "varRefreshCmd": "print(var_dic_list())"
    },
    "r": {
     "delete_cmd_postfix": ") ",
     "delete_cmd_prefix": "rm(",
     "library": "var_list.r",
     "varRefreshCmd": "cat(var_dic_list()) "
    }
   },
   "types_to_exclude": [
    "module",
    "function",
    "builtin_function_or_method",
    "instance",
    "_Feature"
   ],
   "window_display": false
  },
  "widgets": {
   "state": {},
   "version": "1.1.2"
  }
 },
 "nbformat": 4,
 "nbformat_minor": 1
}
